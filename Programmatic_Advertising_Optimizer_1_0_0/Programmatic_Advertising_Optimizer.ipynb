# Creating a .ipynb file to consolidate the Programmatic Advertising Optimizer components.

notebook_content = """
{
 "cells": [
  {
   "cell_type": "markdown",
   "metadata": {},
   "source": [
    "# Programmatic Advertising Optimizer"
   ]
  },
  {
   "cell_type": "code",
   "execution_count": null,
   "metadata": {},
   "outputs": [],
   "source": [
    "# Install required libraries\\n",
    "!pip install pandas numpy scikit-learn"
   ]
  },
  {
   "cell_type": "code",
   "execution_count": null,
   "metadata": {},
   "outputs": [],
   "source": [
    "# model.py\\n",
    "import pandas as pd\\n",
    "import numpy as np\\n",
    "from sklearn.ensemble import RandomForestRegressor\\n",
    "from sklearn.model_selection import train_test_split\\n",
    "from sklearn.metrics import mean_squared_error\\n",
    "\\n",
    "class AdvertisingModel:\\n",
    "    def __init__(self):\\n",
    "        self.model = RandomForestRegressor(n_estimators=100, random_state=42)\\n",
    "        self.data = pd.DataFrame(columns=['budget', 'clicks', 'impressions', 'conversions', 'revenue'])\\n",
    "\\n",
    "    def add_campaign_data(self, budget, clicks, impressions, conversions, revenue):\\n",
    "        new_data = {\\n",
    "            'budget': budget,\\n",
    "            'clicks': clicks,\\n",
    "            'impressions': impressions,\\n",
    "            'conversions': conversions,\\n",
    "            'revenue': revenue\\n",
    "        }\\n",
    "        self.data = pd.concat([self.data, pd.DataFrame([new_data])], ignore_index=True)\\n",
    "\\n",
    "    def train_model(self):\\n",
    "        X = self.data[['budget', 'clicks', 'impressions', 'conversions']]\\n",
    "        y = self.data['revenue']\\n",
    "        X_train, X_test, y_train, y_test = train_test_split(X, y, test_size=0.2, random_state=42)\\n",
    "        self.model.fit(X_train, y_train)\\n",
    "        predictions = self.model.predict(X_test)\\n",
    "        mse = mean_squared_error(y_test, predictions)\\n",
    "        return mse\\n",
    "\\n",
    "    def predict_revenue(self, budget, clicks, impressions, conversions):\\n",
    "        input_data = np.array([[budget, clicks, impressions, conversions]])\\n",
    "        return self.model.predict(input_data)[0]\\n"
   ]
  },
  {
   "cell_type": "code",
   "execution_count": null,
   "metadata": {},
   "outputs": [],
   "source": [
    "# view.py\\n",
    "class AdvertisingView:\\n",
    "    @staticmethod\\n",
    "    def display_message(message):\\n",
    "        print(message)\\n",
    "\\n",
    "    @staticmethod\\n",
    "    def display_metrics(mse):\\n",
    "        print(f'Model Mean Squared Error: {mse}')\\n",
    "\\n",
    "    @staticmethod\\n",
    "    def display_prediction(prediction):\\n",
    "        print(f'Predicted Revenue: {prediction}')"
   ]
  },
  {
   "cell_type": "code",
   "execution_count": null,
   "metadata": {},
   "outputs": [],
   "source": [
    "# controller.py\\n",
    "from model import AdvertisingModel\\n",
    "from view import AdvertisingView\\n",
    "\\n",
    "class AdvertisingController:\\n",
    "    def __init__(self):\\n",
    "        self.model = AdvertisingModel()\\n",
    "        self.view = AdvertisingView()\\n",
    "\\n",
    "    def add_campaign(self, budget, clicks, impressions, conversions, revenue):\\n",
    "        self.model.add_campaign_data(budget, clicks, impressions, conversions, revenue)\\n",
    "        self.view.display_message(\"Campaign data added successfully.\")\\n",
    "\\n",
    "    def train_and_evaluate(self):\\n",
    "        mse = self.model.train_model()\\n",
    "        self.view.display_metrics(mse)\\n",
    "\\n",
    "    def predict(self, budget, clicks, impressions, conversions):\\n",
    "        prediction = self.model.predict_revenue(budget, clicks, impressions, conversions)\\n",
    "        self.view.display_prediction(prediction)"
   ]
  },
  {
   "cell_type": "code",
   "execution_count": null,
   "metadata": {},
   "outputs": [],
   "source": [
    "# main.py\\n",
    "from controller import AdvertisingController\\n",
    "\\n",
    "if __name__ == \"__main__\":\\n",
    "    controller = AdvertisingController()\\n",
    "\\n",
    "    # Add some sample campaign data\\n",
    "    controller.add_campaign(1000, 500, 10000, 50, 2000)\\n",
    "    controller.add_campaign(1500, 700, 15000, 70, 3000)\\n",
    "    controller.add_campaign(2000, 900, 20000, 90, 4000)\\n",
    "\\n",
    "    # Train and evaluate the model\\n",
    "    controller.train_and_evaluate()\\n",
    "\\n",
    "    # Make a prediction\\n",
    "    controller.predict(1200, 600, 12000, 60)"
   ]
  }
 ],
 "metadata": {
  "kernelspec": {
   "display_name": "Python 3",
   "language": "python",
   "name": "python3"
  },
  "language_info": {
   "codemirror_mode": {
    "name": "ipython",
    "version": 3
   },
   "file_extension": ".py",
   "mimetype": "text/x-python",
   "name": "python",
   "nbconvert_exporter": "python",
   "pygments_lexer": "ipython3",
   "version": "3.8.16"
  }
 },
 "nbformat": 4,
 "nbformat_minor": 5
}
"""

# Saving the content as a .ipynb file
file_path = "/mnt/data/Programmatic_Advertising_Optimizer.ipynb"
with open(file_path, "w") as f:
    f.write(notebook_content)

file_path
