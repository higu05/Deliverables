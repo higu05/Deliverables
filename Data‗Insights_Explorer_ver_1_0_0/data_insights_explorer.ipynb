import pandas as pd
import numpy as np
import seaborn as sns
import matplotlib.pyplot as plt
from sklearn.ensemble import IsolationForest

class DataModel:
    def __init__(self):
        self.data = None

    def load_data(self, file_path):
        """Load dataset from a file."""
        self.data = pd.read_csv(file_path)
        return self.data

    def summarize_data(self):
        """Generate a summary of the dataset."""
        summary = {
            "shape": self.data.shape,
            "columns": list(self.data.columns),
            "missing_values": self.data.isnull().sum().to_dict(),
            "data_types": self.data.dtypes.to_dict(),
        }
        return summary

    def detect_anomalies(self, contamination=0.05):
        """Detect anomalies using Isolation Forest."""
        numeric_data = self.data.select_dtypes(include=[np.number])
        model = IsolationForest(contamination=contamination, random_state=42)
        predictions = model.fit_predict(numeric_data)
        self.data['Anomaly'] = predictions
        anomalies = self.data[self.data['Anomaly'] == -1]
        return anomalies

    def generate_correlation_heatmap(self):
        """Generate a correlation heatmap."""
        correlation_matrix = self.data.corr()
        plt.figure(figsize=(10, 8))
        sns.heatmap(correlation_matrix, annot=True, cmap='coolwarm', fmt='.2f')
        plt.title("Correlation Heatmap")
        plt.show()

class DataView:
    @staticmethod
    def display_summary(summary):
        print("Dataset Summary:")
        print(f"Shape: {summary['shape']}")
        print("Columns:", summary['columns'])
        print("Missing Values:", summary['missing_values'])
        print("Data Types:", summary['data_types'])

    @staticmethod
    def display_anomalies(anomalies):
        print(f"Anomalies Detected: {len(anomalies)}")
        print(anomalies)

    @staticmethod
    def display_message(message):
        print(message)

class DataController:
    def __init__(self):
        self.model = DataModel()
        self.view = DataView()

    def load_and_summarize_data(self, file_path):
        data = self.model.load_data(file_path)
        if data is not None:
            summary = self.model.summarize_data()
            self.view.display_summary(summary)

    def detect_anomalies(self, contamination=0.05):
        anomalies = self.model.detect_anomalies(contamination=contamination)
        self.view.display_anomalies(anomalies)

    def show_correlation_heatmap(self):
        self.view.display_message("Generating Correlation Heatmap...")
        self.model.generate_correlation_heatmap()

# Main application
print("Welcome to Data Insights Explorer!")
controller = DataController()

# Upload dataset
from google.colab import files
uploaded = files.upload()
file_path = list(uploaded.keys())[0]

# Load and summarize data
controller.load_and_summarize_data(file_path)

# Detect anomalies
detect_anomalies = input("Would you like to detect anomalies? (yes/no): ").strip().lower()
if detect_anomalies == "yes":
    contamination = float(input("Enter contamination rate (e.g., 0.05 for 5%): "))
    controller.detect_anomalies(contamination=contamination)

# Generate correlation heatmap
generate_heatmap = input("Would you like to generate a correlation heatmap? (yes/no): ").strip().lower()
if generate_heatmap == "yes":
    controller.show_correlation_heatmap()
