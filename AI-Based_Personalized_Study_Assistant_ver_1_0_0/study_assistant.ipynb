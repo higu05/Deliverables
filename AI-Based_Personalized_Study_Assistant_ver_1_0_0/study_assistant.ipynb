import json

class StudyModel:
    def __init__(self):
        self.user_data = {}

    def load_data(self, file_name='user_data.json'):
        try:
            with open(file_name, 'r') as file:
                self.user_data = json.load(file)
        except FileNotFoundError:
            self.user_data = {}

    def save_data(self, file_name='user_data.json'):
        with open(file_name, 'w') as file:
            json.dump(self.user_data, file, indent=4)

    def add_user(self, username):
        if username not in self.user_data:
            self.user_data[username] = {"progress": {}, "suggestions": []}
            self.save_data()

    def add_progress(self, username, topic, score):
        if username in self.user_data:
            self.user_data[username]["progress"][topic] = score
            self.save_data()

    def get_user_data(self, username):
        return self.user_data.get(username, {})
