# Install required libraries
!pip install diffusers transformers accelerate torch gradio

# Import necessary modules
from diffusers import StableDiffusionPipeline
import torch
import gradio as gr

# Model (model.py)
class ArtModel:
    def __init__(self, model_name="CompVis/stable-diffusion-v1-4"):
        self.device = "cuda" if torch.cuda.is_available() else "cpu"
        self.pipeline = StableDiffusionPipeline.from_pretrained(model_name).to(self.device)

    def generate_image(self, prompt, style=None, resolution=(512, 512)):
        styled_prompt = f"{prompt}, {style}" if style else prompt
        image = self.pipeline(styled_prompt, height=resolution[0], width=resolution[1]).images[0]
        return image

# Controller (controller.py)
class ArtStudioController:
    def __init__(self):
        self.model = ArtModel()

    def process_request(self, prompt, style, resolution):
        resolution_map = {
            "512x512": (512, 512),
            "768x768": (768, 768),
            "1024x1024": (1024, 1024),
        }
        resolution = resolution_map.get(resolution, (512, 512))
        image = self.model.generate_image(prompt, style, resolution)
        return image

# View (view.py)
class ArtStudioView:
    def __init__(self, controller):
        self.controller = controller

    def render(self):
        def generate(prompt, style, resolution):
            return self.controller.process_request(prompt, style, resolution)

        interface = gr.Interface(
            fn=generate,
            inputs=[
                gr.Textbox(label="Art Prompt"),
                gr.Textbox(label="Style (Optional)"),
                gr.Radio(["512x512", "768x768", "1024x1024"], label="Resolution", value="512x512")
            ],
            outputs=gr.Image(label="Generated Artwork"),
            title="Generative AI Art Studio",
            description="Create stunning artwork with AI. Enter a prompt, optionally choose a style, and resolution."
        )
        interface.launch()

# Main script (main.ipynb)
if __name__ == "__main__":
    # Initialize controller
    controller = ArtStudioController()

    # Pass the controller to the view
    view = ArtStudioView(controller)

    # Launch the interface
    view.render()
