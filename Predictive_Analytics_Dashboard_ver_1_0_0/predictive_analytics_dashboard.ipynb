import pandas as pd
import numpy as np
import matplotlib.pyplot as plt
import seaborn as sns
from sklearn.model_selection import train_test_split
from sklearn.ensemble import RandomForestRegressor
from sklearn.metrics import mean_absolute_error
import streamlit as st

# Model: Handles data processing and predictions
class PredictiveModel:
    def __init__(self, data):
        self.data = data
        self.model = RandomForestRegressor(n_estimators=100, random_state=42)
    
    def preprocess_data(self):
        # Example: Assume last column is the target
        X = self.data.iloc[:, :-1]
        y = self.data.iloc[:, -1]
        X_train, X_test, y_train, y_test = train_test_split(X, y, test_size=0.2, random_state=42)
        return X_train, X_test, y_train, y_test
    
    def train_model(self):
        X_train, X_test, y_train, y_test = self.preprocess_data()
        self.model.fit(X_train, y_train)
        predictions = self.model.predict(X_test)
        error = mean_absolute_error(y_test, predictions)
        return error
    
    def predict(self, new_data):
        return self.model.predict(new_data)

# View: Handles UI using Streamlit
class PredictiveView:
    def __init__(self):
        st.title("Predictive Analytics Dashboard")
    
    def display_data(self, data):
        st.subheader("Uploaded Data")
        st.write(data.head())
    
    def display_plot(self, data):
        st.subheader("Data Distribution")
        plt.figure(figsize=(10, 5))
        sns.histplot(data.iloc[:, -1], kde=True)
        st.pyplot(plt)
    
    def display_prediction(self, prediction):
        st.subheader("Prediction")
        st.write("Predicted value:", prediction)

# Controller: Manages data flow between Model and View
class PredictiveController:
    def __init__(self):
        self.view = PredictiveView()
    
    def run(self):
        uploaded_file = st.file_uploader("Upload CSV file", type=["csv"])
        if uploaded_file is not None:
            data = pd.read_csv(uploaded_file)
            model = PredictiveModel(data)
            self.view.display_data(data)
            self.view.display_plot(data)
            error = model.train_model()
            st.write("Model trained with MAE:", error)
            if st.button("Make Prediction"):
                new_data = np.array([data.iloc[0, :-1]])  # Example input
                prediction = model.predict(new_data)
                self.view.display_prediction(prediction)

# Run the Streamlit app
if __name__ == "__main__":
    controller = PredictiveController()
    controller.run()
