# Install necessary libraries
!pip install flask flask-ngrok transformers

# Import necessary libraries
import os
from flask import Flask, request, render_template_string
from transformers import pipeline
from flask_ngrok import run_with_ngrok

# Initialize Flask app
app = Flask(__name__)
run_with_ngrok(app)  # Allows Flask to run on Google Colaboratory

# HTML template for the web interface
HTML_TEMPLATE = """
<!DOCTYPE html>
<html lang="en">
<head>
    <meta charset="UTF-8">
    <meta name="viewport" content="width=device-width, initial-scale=1.0">
    <title>AI-Assisted Code Review</title>
</head>
<body>
    <h1>AI-Assisted Code Review</h1>
    <form action="/upload" method="post" enctype="multipart/form-data">
        <label for="file">Upload your Python script:</label>
        <input type="file" id="file" name="file" accept=".py" required>
        <button type="submit">Analyze</button>
    </form>

    {% if feedback %}
        <h2>Review Feedback</h2>
        <ul>
        {% for item in feedback %}
            <li>Line {{ item.line }}: {{ item.comment }}</li>
        {% endfor %}
        </ul>
    {% endif %}
</body>
</html>
"""

# AI model initialization
class CodeReviewModel:
    def __init__(self):
        # Load a basic text classification model (custom models can be added here)
        self.pipeline = pipeline("text-classification", model="facebook/bart-large-mnli")

    def analyze_code(self, code):
        """
        Analyze the Python code for potential improvements and issues.
        """
        suggestions = [
            {"line": 2, "comment": "Consider using list comprehensions for better performance."},
            {"line": 5, "comment": "Avoid hardcoding values; use constants instead."}
        ]

        # Split code into lines and generate mock AI feedback
        lines = code.split("\n")
        results = [{"line": i + 1, "comment": f"AI detected issue at line {i+1}."} for i in range(len(lines))]

        return suggestions + results

# Initialize model
model = CodeReviewModel()

# Define Flask routes
@app.route("/")
def home():
    return render_template_string(HTML_TEMPLATE)

@app.route("/upload", methods=["POST"])
def upload_code():
    if "file" not in request.files:
        return "No file uploaded", 400

    file = request.files["file"]
    if file.filename == "":
        return "No file selected", 400

    code = file.read().decode("utf-8")
    feedback = model.analyze_code(code)
    return render_template_string(HTML_TEMPLATE, feedback=feedback)

# Start the Flask app
app.run()
