# Creating the .ipynb file for the AI Video Summarization Tool

notebook_content = {
    "cells": [
        {
            "cell_type": "markdown",
            "metadata": {},
            "source": [
                "# AI Video Summarization Tool\n",
                "This notebook implements an AI-powered tool for video summarization. It follows the MVC pattern with the following components:\n",
                "- `model_video_processing.py`: Handles video processing, transcription, and summarization.\n",
                "- `view_interface.py`: Manages user interactions.\n",
                "- `controller.py`: Orchestrates the workflow.\n",
                "\n",
                "## Instructions\n",
                "1. Save the accompanying Python files (`model_video_processing.py`, `view_interface.py`, `controller.py`) in the same directory.\n",
                "2. Provide an OpenAI API key when prompted.\n",
                "3. Enter the path to the video file you want to summarize."
            ]
        },
        {
            "cell_type": "code",
            "execution_count": None,
            "metadata": {},
            "outputs": [],
            "source": [
                "# Install necessary libraries\n",
                "!pip install moviepy openai"
            ]
        },
        {
            "cell_type": "code",
            "execution_count": None,
            "metadata": {},
            "outputs": [],
            "source": [
                "# Import Controller\n",
                "from controller import VideoSummarizationController\n",
                "\n",
                "# Main Entry Point\n",
                "def main():\n",
                "    # Initialize API key (You can use environment variables for security)\n",
                "    api_key = input(\"Enter your OpenAI API key: \")\n",
                "\n",
                "    # Start the video summarization process\n",
                "    summarizer = VideoSummarizationController(api_key)\n",
                "    summarizer.summarize_video()\n",
                "\n",
                "if __name__ == \"__main__\":\n",
                "    main()"
            ]
        }
    ],
    "metadata": {
        "kernelspec": {
            "display_name": "Python 3",
            "language": "python",
            "name": "python3"
        },
        "language_info": {
            "codemirror_mode": {"name": "ipython", "version": 3},
            "file_extension": ".py",
            "mimetype": "text/x-python",
            "name": "python",
            "nbconvert_exporter": "python",
            "pygments_lexer": "ipython3",
            "version": "3.8.10"
        }
    },
    "nbformat": 4,
    "nbformat_minor": 4
}

# Saving the notebook as a .ipynb file
file_path = "/mnt/data/AI_Video_Summarizer.ipynb"

import json

with open(file_path, "w") as f:
    json.dump(notebook_content, f)

file_path
