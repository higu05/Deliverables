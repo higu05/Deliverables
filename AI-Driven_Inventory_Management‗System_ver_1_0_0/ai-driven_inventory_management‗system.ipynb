# Creating the .ipynb file with the provided source code
notebook_content = {
    "cells": [
        {
            "cell_type": "markdown",
            "metadata": {},
            "source": [
                "# AI-Driven Inventory Management System\n",
                "This notebook implements an AI-Driven Inventory Management System using Python."
            ]
        },
        {
            "cell_type": "code",
            "execution_count": None,
            "metadata": {},
            "outputs": [],
            "source": [
                "# Import necessary libraries\n",
                "import pandas as pd\n",
                "from sklearn.linear_model import LinearRegression\n",
                "import numpy as np\n",
                "\n",
                "# Inventory Data (Example Dataset)\n",
                "data = {\n",
                "    'Product': ['A', 'B', 'C', 'D'],\n",
                "    'Current_Stock': [100, 50, 150, 75],\n",
                "    'Daily_Sales': [10, 5, 15, 7],\n",
                "    'Lead_Time': [5, 7, 3, 6],\n",
                "}\n",
                "df = pd.DataFrame(data)\n",
                "\n",
                "# Calculate Reorder Point\n",
                "df['Reorder_Point'] = df['Daily_Sales'] * df['Lead_Time']\n",
                "\n",
                "# Predict Future Stock Levels\n",
                "X = np.array(df['Daily_Sales']).reshape(-1, 1)\n",
                "y = np.array(df['Current_Stock'])\n",
                "model = LinearRegression()\n",
                "model.fit(X, y)\n",
                "\n",
                "# Predict stock levels for the next 10 days\n",
                "future_sales = np.arange(1, 11).reshape(-1, 1)\n",
                "predicted_stock = model.predict(future_sales)\n",
                "\n",
                "print(\"Predicted Stock Levels for the Next 10 Days:\")\n",
                "print(predicted_stock)\n",
                "\n",
                "# Display the DataFrame\n",
                "print(\"\\nInventory Management Data:\")\n",
                "print(df)"
            ]
        }
    ],
    "metadata": {
        "kernelspec": {
            "display_name": "Python 3",
            "language": "python",
            "name": "python3"
        },
        "language_info": {
            "codemirror_mode": {
                "name": "ipython",
                "version": 3
            },
            "file_extension": ".py",
            "mimetype": "text/x-python",
            "name": "python",
            "nbconvert_exporter": "python",
            "pygments_lexer": "ipython3",
            "version": "3.9.12"
        }
    },
    "nbformat": 4,
    "nbformat_minor": 4
}

# Save the notebook as a file
file_path = "/mnt/data/ai_inventory_management_system.ipynb"

import json
with open(file_path, 'w') as f:
    json.dump(notebook_content, f)

file_path
