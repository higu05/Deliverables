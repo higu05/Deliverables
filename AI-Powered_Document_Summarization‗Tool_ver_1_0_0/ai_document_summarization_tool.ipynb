# =======================
# Model: Handles data storage
# =======================
import os
import json

class DocumentModel:
    def __init__(self, storage_path="summaries.json"):
        self.storage_path = storage_path
        if not os.path.exists(self.storage_path):
            with open(self.storage_path, "w") as file:
                json.dump({}, file)

    def save_summary(self, filename, summary):
        with open(self.storage_path, "r") as file:
            data = json.load(file)

        data[filename] = summary

        with open(self.storage_path, "w") as file:
            json.dump(data, file)

    def get_summary(self, filename):
        with open(self.storage_path, "r") as file:
            data = json.load(file)

        return data.get(filename, "Summary not found.")

    def list_summaries(self):
        with open(self.storage_path, "r") as file:
            data = json.load(file)

        return list(data.keys())


# =======================
# View: Handles user interaction
# =======================
class DocumentView:
    @staticmethod
    def display_message(message):
        print(f"\n{message}\n")

    @staticmethod
    def get_user_input(prompt):
        return input(f"{prompt}: ")

    @staticmethod
    def display_summary(filename, summary):
        print(f"\nSummary for {filename}:\n{summary}\n")

    @staticmethod
    def display_file_list(file_list):
        if not file_list:
            print("\nNo summaries available.\n")
        else:
            print("\nAvailable Summaries:")
            for file in file_list:
                print(f"- {file}")


# =======================
# Controller: Core logic
# =======================
import openai

class DocumentController:
    def __init__(self, model, view, api_key):
        self.model = model
        self.view = view
        openai.api_key = api_key

    def summarize_document(self, text, filename):
        try:
            self.view.display_message("Generating summary...")
            response = openai.Completion.create(
                engine="text-davinci-003",
                prompt=f"Summarize the following text:\n\n{text}",
                max_tokens=100,
                n=1,
                stop=None,
                temperature=0.5,
            )
            summary = response.choices[0].text.strip()
            self.model.save_summary(filename, summary)
            self.view.display_summary(filename, summary)
        except Exception as e:
            self.view.display_message(f"Error: {e}")

    def retrieve_summary(self, filename):
        summary = self.model.get_summary(filename)
        self.view.display_summary(filename, summary)

    def list_summaries(self):
        file_list = self.model.list_summaries()
        self.view.display_file_list(file_list)


# =======================
# Main Application
# =======================
def main():
    # Initialize components
    model = DocumentModel()
    view = DocumentView()
    api_key = input("Enter your OpenAI API Key: ")
    controller = DocumentController(model, view, api_key)

    # Application menu
    while True:
        view.display_message("AI-Powered Document Summarization Tool")
        choice = view.get_user_input("Choose an option (1: Summarize, 2: View Summary, 3: List Summaries, 4: Exit)")
        
        if choice == "1":
            filename = view.get_user_input("Enter the filename (without extension)")
            text = view.get_user_input("Paste the document text")
            controller.summarize_document(text, filename)
        elif choice == "2":
            filename = view.get_user_input("Enter the filename to view summary")
            controller.retrieve_summary(filename)
        elif choice == "3":
            controller.list_summaries()
        elif choice == "4":
            view.display_message("Exiting application. Goodbye!")
            break
        else:
            view.display_message("Invalid choice. Please try again.")

# Run the application
if __name__ == "__main__":
    main()
