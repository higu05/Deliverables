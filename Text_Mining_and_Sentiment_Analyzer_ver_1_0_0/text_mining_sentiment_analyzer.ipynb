import pandas as pd
from textblob import TextBlob
import matplotlib.pyplot as plt
from wordcloud import WordCloud
from google.colab import files

class TextMiningModel:
    def __init__(self):
        self.data = None
        self.text_column = None

    def load_data(self, file_path):
        """Load dataset from a file."""
        self.data = pd.read_csv(file_path)
        return self.data

    def set_text_column(self, column_name):
        """Set the column containing text data."""
        self.text_column = column_name

    def generate_sentiment_analysis(self):
        """Perform sentiment analysis and return the results."""
        sentiments = self.data[self.text_column].apply(lambda x: TextBlob(x).sentiment.polarity)
        self.data['Sentiment'] = sentiments
        sentiment_summary = {
            "positive": len(self.data[self.data['Sentiment'] > 0]),
            "neutral": len(self.data[self.data['Sentiment'] == 0]),
            "negative": len(self.data[self.data['Sentiment'] < 0]),
        }
        return sentiment_summary

    def generate_word_cloud(self):
        """Generate a word cloud from the text data."""
        all_text = " ".join(self.data[self.text_column].dropna())
        wordcloud = WordCloud(width=800, height=400, background_color='white').generate(all_text)
        plt.figure(figsize=(10, 5))
        plt.imshow(wordcloud, interpolation='bilinear')
        plt.axis("off")
        plt.show()

class TextMiningView:
    @staticmethod
    def display_message(message):
        print(message)

    @staticmethod
    def display_sentiment_summary(summary):
        print("Sentiment Analysis Summary:")
        print(f"Positive: {summary['positive']}")
        print(f"Neutral: {summary['neutral']}")
        print(f"Negative: {summary['negative']}")

    @staticmethod
    def display_wordcloud():
        print("Displaying Word Cloud...")

class TextMiningController:
    def __init__(self):
        self.model = TextMiningModel()
        self.view = TextMiningView()

    def load_text_data(self, file_path):
        data = self.model.load_data(file_path)
        if data is not None:
            self.view.display_message("Data loaded successfully.")

    def set_text_column(self, column_name):
        self.model.set_text_column(column_name)
        self.view.display_message(f"Text column set to '{column_name}'.")

    def analyze_sentiment(self):
        summary = self.model.generate_sentiment_analysis()
        self.view.display_sentiment_summary(summary)

    def generate_word_cloud(self):
        self.view.display_wordcloud()
        self.model.generate_word_cloud()

# Main application
def main():
    controller = TextMiningController()

    print("Welcome to Text Mining and Sentiment Analyzer!")

    # Upload dataset
    print("Please upload your CSV file.")
    uploaded = files.upload()
    file_path = list(uploaded.keys())[0]

    # Load text data
    controller.load_text_data(file_path)

    # Set text column
    column_name = input("Enter the name of the column containing text data: ")
    controller.set_text_column(column_name)

    # Perform sentiment analysis
    analyze_sentiment = input("Would you like to perform sentiment analysis? (yes/no): ").strip().lower()
    if analyze_sentiment == "yes":
        controller.analyze_sentiment()

    # Generate word cloud
    generate_wordcloud = input("Would you like to generate a word cloud? (yes/no): ").strip().lower()
    if generate_wordcloud == "yes":
        controller.generate_word_cloud()

if __name__ == "__main__":
    main()
