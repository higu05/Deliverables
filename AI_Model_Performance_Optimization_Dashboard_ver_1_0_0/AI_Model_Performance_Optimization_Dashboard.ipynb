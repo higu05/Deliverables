# Import necessary libraries
import torch
import torch.nn as nn
import torch.optim as optim
from torchvision import datasets, transforms
from torch.utils.data import DataLoader
import matplotlib.pyplot as plt
import numpy as np
import random
import seaborn as sns
from sklearn.metrics import accuracy_score, confusion_matrix

# --- Model (model.py) ---
class ModelHandler:
    def __init__(self, model):
        self.model = model

    def train_model(self, train_loader, criterion, optimizer, epochs=5):
        self.model.train()
        for epoch in range(epochs):
            total_loss = 0
            for data, target in train_loader:
                data, target = data.to(device), target.to(device)
                optimizer.zero_grad()
                output = self.model(data)
                loss = criterion(output, target)
                loss.backward()
                optimizer.step()
                total_loss += loss.item()
            print(f"Epoch {epoch + 1}, Loss: {total_loss:.4f}")
        return self.model

    def evaluate_model(self, test_loader):
        self.model.eval()
        all_preds = []
        all_targets = []
        with torch.no_grad():
            for data, target in test_loader:
                data, target = data.to(device), target.to(device)
                output = self.model(data)
                preds = output.argmax(dim=1).cpu().numpy()
                all_preds.extend(preds)
                all_targets.extend(target.cpu().numpy())
        return all_preds, all_targets

# --- View (view.py) ---
class DashboardView:
    @staticmethod
    def plot_confusion_matrix(y_true, y_pred):
        cm = confusion_matrix(y_true, y_pred)
        sns.heatmap(cm, annot=True, fmt="d", cmap="Blues")
        plt.title("Confusion Matrix")
        plt.xlabel("Predicted")
        plt.ylabel("Actual")
        plt.show()

    @staticmethod
    def plot_metric(metrics, title, ylabel):
        plt.plot(metrics)
        plt.title(title)
        plt.xlabel("Epochs")
        plt.ylabel(ylabel)
        plt.grid()
        plt.show()

# --- Controller (controller.py) ---
class DashboardController:
    def __init__(self, model_handler, view):
        self.model_handler = model_handler
        self.view = view

    def run_dashboard(self, train_loader, test_loader, criterion, optimizer, epochs=5):
        # Train the model
        print("Training model...")
        self.model_handler.train_model(train_loader, criterion, optimizer, epochs)

        # Evaluate the model
        print("Evaluating model...")
        y_pred, y_true = self.model_handler.evaluate_model(test_loader)

        # Calculate accuracy
        accuracy = accuracy_score(y_true, y_pred)
        print(f"Model Accuracy: {accuracy * 100:.2f}%")

        # Display confusion matrix
        print("Generating confusion matrix...")
        self.view.plot_confusion_matrix(y_true, y_pred)

# --- Main Execution (Colab Notebook) ---
# Define device
device = "cuda" if torch.cuda.is_available() else "cpu"

# Define model
class SimpleCNN(nn.Module):
    def __init__(self):
        super(SimpleCNN, self).__init__()
        self.conv1 = nn.Conv2d(1, 32, kernel_size=3)
        self.conv2 = nn.Conv2d(32, 64, kernel_size=3)
        self.fc1 = nn.Linear(64 * 6 * 6, 128)
        self.fc2 = nn.Linear(128, 10)

    def forward(self, x):
        x = torch.relu(self.conv1(x))
        x = torch.relu(self.conv2(x))
        x = torch.flatten(x, 1)
        x = torch.relu(self.fc1(x))
