# Install required dependencies (run this in Google Colab if needed)
# !pip install pandas matplotlib

import pandas as pd
import matplotlib.pyplot as plt
import random

def simulate_chatgpt_response(keywords):
    """
    Simulates generating consumer insights based on provided keywords.
    This function mimics ChatGPT's output by returning structured insights.
    """
    insights = {
        "Trends": [
            f"Rising demand for {keywords[0]}-related products globally.",
            f"Increased consumer awareness about {keywords[0]} in developing markets.",
            f"Digital adoption accelerating {keywords[0]} services."
        ],
        "Opportunities": [
            f"Potential for {keywords[1]}-based services in untapped regions.",
            f"Growing interest in eco-friendly {keywords[1]} solutions.",
            f"Strategic partnerships with local players for {keywords[1]} market entry."
        ],
        "Challenges": [
            f"High competition in {keywords[0]} industry.",
            f"Regulatory barriers affecting {keywords[1]} expansion.",
            f"Consumer skepticism about {keywords[0]} innovations."
        ]
    }
    return insights

def visualize_insights(insights):
    """
    Generates a bar chart summarizing the number of insights in each category.
    """
    categories = ["Trends", "Opportunities", "Challenges"]
    counts = [len(insights[cat]) for cat in categories]
    
    plt.figure(figsize=(8, 5))
    plt.bar(categories, counts, color=['blue', 'green', 'red'])
    plt.title("Summary of Consumer Insights")
    plt.xlabel("Categories")
    plt.ylabel("Number of Insights")
    plt.show()

def main():
    """
    Main function to run the application.
    """
    print("Welcome to the Business Insights Generator!")
    print("This tool helps you generate consumer insights based on keywords.")
    
    # User input
    keywords = input("Enter two keywords related to your query (comma-separated): ").split(',')
    keywords = [kw.strip() for kw in keywords if kw.strip()]
    
    if len(keywords) < 2:
        print("Error: Please provide at least two keywords.")
        return
    
    # Simulate response generation
    insights = simulate_chatgpt_response(keywords)
    
    # Display insights
    print("\nGenerated Consumer Insights:\n")
    for category, details in insights.items():
        print(f"{category}:\n" + "\n".join([f"- {item}" for item in details]) + "\n")
    
    # Visualize insights
    visualize_insights(insights)
    
    # Customization options
    print("Customization Options:")
    print("1. Adjust region: Currently global")
    print("2. Industry: Currently general")
    print("3. Timeframe: Flexible")
    print("To adjust these parameters, extend the code!")

if __name__ == "__main__":
    main()
