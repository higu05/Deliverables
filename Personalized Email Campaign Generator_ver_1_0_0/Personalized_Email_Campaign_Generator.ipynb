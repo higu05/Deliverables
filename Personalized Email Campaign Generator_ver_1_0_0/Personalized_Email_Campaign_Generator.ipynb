# Creating a new .ipynb file with the provided code.
notebook_content = {
    "cells": [
        {
            "cell_type": "markdown",
            "metadata": {},
            "source": ["# Personalized Email Campaign Generator"]
        },
        {
            "cell_type": "code",
            "execution_count": None,
            "metadata": {},
            "outputs": [],
            "source": [
                "# model.py\n",
                "import sqlite3\n",
                "\n",
                "class CampaignModel:\n",
                "    def __init__(self, db_name=\"campaigns.db\"):\n",
                "        self.conn = sqlite3.connect(db_name)\n",
                "        self.create_table()\n",
                "\n",
                "    def create_table(self):\n",
                "        query = \"\"\"CREATE TABLE IF NOT EXISTS campaigns (\n",
                "                    id INTEGER PRIMARY KEY AUTOINCREMENT,\n",
                "                    name TEXT,\n",
                "                    recipient_email TEXT,\n",
                "                    subject TEXT,\n",
                "                    body TEXT\n",
                "                 )\"\"\"\n",
                "        self.conn.execute(query)\n",
                "        self.conn.commit()\n",
                "\n",
                "    def add_campaign(self, name, recipient_email, subject, body):\n",
                "        query = \"INSERT INTO campaigns (name, recipient_email, subject, body) VALUES (?, ?, ?, ?)\"\n",
                "        self.conn.execute(query, (name, recipient_email, subject, body))\n",
                "        self.conn.commit()\n",
                "\n",
                "    def get_all_campaigns(self):\n",
                "        query = \"SELECT * FROM campaigns\"\n",
                "        cursor = self.conn.execute(query)\n",
                "        return cursor.fetchall()\n"
            ]
        },
        {
            "cell_type": "code",
            "execution_count": None,
            "metadata": {},
            "outputs": [],
            "source": [
                "# view.py\n",
                "class CampaignView:\n",
                "    @staticmethod\n",
                "    def display_menu():\n",
                "        print(\"\\n--- Email Campaign Manager ---\")\n",
                "        print(\"1. Create a new campaign\")\n",
                "        print(\"2. View all campaigns\")\n",
                "        print(\"3. Exit\")\n",
                "\n",
                "    @staticmethod\n",
                "    def display_campaigns(campaigns):\n",
                "        print(\"\\n--- All Campaigns ---\")\n",
                "        for campaign in campaigns:\n",
                "            print(f\"ID: {campaign[0]}, Name: {campaign[1]}, Recipient: {campaign[2]}, Subject: {campaign[3]}\")\n"
            ]
        },
        {
            "cell_type": "code",
            "execution_count": None,
            "metadata": {},
            "outputs": [],
            "source": [
                "# controller.py\n",
                "from model import CampaignModel\n",
                "from view import CampaignView\n",
                "\n",
                "class CampaignController:\n",
                "    def __init__(self):\n",
                "        self.model = CampaignModel()\n",
                "        self.view = CampaignView()\n",
                "\n",
                "    def run(self):\n",
                "        while True:\n",
                "            self.view.display_menu()\n",
                "            choice = input(\"Enter your choice: \")\n",
                "\n",
                "            if choice == \"1\":\n",
                "                self.create_campaign()\n",
                "            elif choice == \"2\":\n",
                "                self.view_all_campaigns()\n",
                "            elif choice == \"3\":\n",
                "                print(\"Exiting...\")\n",
                "                break\n",
                "            else:\n",
                "                print(\"Invalid choice. Please try again.\")\n",
                "\n",
                "    def create_campaign(self):\n",
                "        name = input(\"Enter campaign name: \")\n",
                "        recipient_email = input(\"Enter recipient email: \")\n",
                "        subject = input(\"Enter subject: \")\n",
                "        body = input(\"Enter email body: \")\n",
                "        self.model.add_campaign(name, recipient_email, subject, body)\n",
                "        print(\"Campaign created successfully!\")\n",
                "\n",
                "    def view_all_campaigns(self):\n",
                "        campaigns = self.model.get_all_campaigns()\n",
                "        self.view.display_campaigns(campaigns)\n"
            ]
        },
        {
            "cell_type": "code",
            "execution_count": None,
            "metadata": {},
            "outputs": [],
            "source": [
                "# app.py\n",
                "from controller import CampaignController\n",
                "\n",
                "if __name__ == \"__main__\":\n",
                "    controller = CampaignController()\n",
                "    controller.run()\n"
            ]
        }
    ],
    "metadata": {
        "kernelspec": {
            "display_name": "Python 3",
            "language": "python",
            "name": "python3"
        },
        "language_info": {
            "codemirror_mode": {"name": "ipython", "version": 3},
            "file_extension": ".py",
            "mimetype": "text/x-python",
            "name": "python",
            "nbconvert_exporter": "python",
            "pygments_lexer": "ipython3",
            "version": "3.8.10"
        }
    },
    "nbformat": 4,
    "nbformat_minor": 2
}

# Save the notebook to a file
file_path = "/mnt/data/Personalized_Email_Campaign_Generator.ipynb"
import json

with open(file_path, "w") as f:
    json.dump(notebook_content, f)

file_path
