
{
 "cells": [
  {
   "cell_type": "markdown",
   "metadata": {},
   "source": [
    "# AI-Enhanced E-Commerce Recommendation System\n",
    "This notebook demonstrates a simplified AI-driven e-commerce recommendation system implemented in Python."
   ]
  },
  {
   "cell_type": "code",
   "execution_count": null,
   "metadata": {},
   "outputs": [],
   "source": [
    "# Import necessary libraries\n",
    "from flask import Flask, render_template, request, jsonify\n",
    "import pandas as pd\n",
    "from sklearn.metrics.pairwise import cosine_similarity\n",
    "from sklearn.feature_extraction.text import CountVectorizer\n",
    "\n",
    "# Initialize Flask application\n",
    "app = Flask(__name__)\n",
    "\n",
    "# Sample product catalog\n",
    "products = pd.DataFrame([\n",
    "    {"id": 1, "name": "Wireless Mouse", "tags": "electronics, mouse, wireless"},\n",
    "    {"id": 2, "name": "Gaming Keyboard", "tags": "electronics, keyboard, gaming"},\n",
    "    {"id": 3, "name": "HD Monitor", "tags": "electronics, monitor, display"},\n",
    "    {"id": 4, "name": "USB-C Cable", "tags": "electronics, cable, usb-c"},\n",
    "    {"id": 5, "name": "Desk Lamp", "tags": "furniture, lamp, lighting"},\n",
    "])\n",
    "\n",
    "# Define home route\n",
    "@app.route('/')\n",
    "def home():\n",
    "    return render_template('home.html')\n",
    "\n",
    "# Define recommendation route\n",
    "@app.route('/recommend', methods=['POST'])\n",
    "def recommend():\n",
    "    user_tags = request.json.get('tags')\n",
    "    if not user_tags:\n",
    "        return jsonify({"error": "No tags provided"}), 400\n",
    "    \n",
    "    # Compute similarity\n",
    "    vectorizer = CountVectorizer().fit_transform(products['tags'].tolist() + [user_tags])\n",
    "    vectors = vectorizer.toarray()\n",
    "    similarity = cosine_similarity([vectors[-1]], vectors[:-1]).flatten()\n",
    "    \n",
    "    # Rank products by similarity\n",
    "    products['similarity'] = similarity\n",
    "    recommended = products.sort_values(by='similarity', ascending=False).head(3)\n",
    "    \n",
    "    return jsonify(recommended[['id', 'name', 'tags']].to_dict(orient='records'))\n",
    "\n",
    "# Run the application\n",
    "if __name__ == '__main__':\n",
    "    app.run(debug=True)"
   ]
  },
  {
   "cell_type": "markdown",
   "metadata": {},
   "source": [
    "### Steps to Run\n",
    "1. Install Flask if not already installed: `!pip install flask`.\n",
    "2. Run this notebook to start the Flask server.\n",
    "3. Access the home page on `http://127.0.0.1:5000`.\n",
    "4. Use the `/recommend` endpoint to test recommendations by sending JSON data with product tags."
   ]
  }
 ],
 "metadata": {
  "kernelspec": {
   "display_name": "Python 3",
   "language": "python",
   "name": "python3"
  },
  "language_info": {
   "codemirror_mode": {
    "name": "ipython",
    "version": 3
   },
   "file_extension": ".py",
   "mimetype": "text/x-python",
   "name": "python",
   "nbconvert_exporter": "python",
   "pygments_lexer": "ipython3",
   "version": "3.8.10"
  }
 },
 "nbformat": 4,
 "nbformat_minor": 5
}
