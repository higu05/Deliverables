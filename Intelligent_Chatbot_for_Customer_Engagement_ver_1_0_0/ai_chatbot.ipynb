
{
 "cells": [
  {
   "cell_type": "code",
   "execution_count": null,
   "id": "model",
   "metadata": {},
   "outputs": [],
   "source": [
    "# chatbot_model.py\n",
    "class ChatbotModel:\n",
    "    def __init__(self):\n",
    "        self.default_responses = {\n",
    "            'hello': 'Hi there! How can I assist you today?',\n",
    "            'help': 'Sure, I\'m here to help! Please provide more details.',\n",
    "            'bye': 'Goodbye! Have a great day!',\n",
    "        }\n",
    "    \n",
    "    def get_response(self, user_input):\n",
    "        user_input = user_input.lower()\n",
    "        return self.default_responses.get(user_input, \"I\'m sorry, I didn\'t understand that. Could you rephrase?\")\n"
   ]
  },
  {
   "cell_type": "code",
   "execution_count": null,
   "id": "view",
   "metadata": {},
   "outputs": [],
   "source": [
    "# chatbot_view.py\n",
    "class ChatbotView:\n",
    "    @staticmethod\n",
    "    def display_message(message):\n",
    "        print(message)\n",
    "    \n",
    "    @staticmethod\n",
    "    def get_user_input():\n",
    "        return input(\"You: \")\n"
   ]
  },
  {
   "cell_type": "code",
   "execution_count": null,
   "id": "controller",
   "metadata": {},
   "outputs": [],
   "source": [
    "# chatbot_controller.py\n",
    "from chatbot_model import ChatbotModel\n",
    "from chatbot_view import ChatbotView\n",
    "\n",
    "class ChatbotController:\n",
    "    def __init__(self):\n",
    "        self.model = ChatbotModel()\n",
    "        self.view = ChatbotView()\n",
    "    \n",
    "    def start_chat(self):\n",
    "        self.view.display_message(\"Chatbot: Hello! Type 'bye' to exit.\")\n",
    "        while True:\n",
    "            user_input = self.view.get_user_input()\n",
    "            if user_input.lower() == 'bye':\n",
    "                self.view.display_message(\"Chatbot: Goodbye!\")\n",
    "                break\n",
    "            response = self.model.get_response(user_input)\n",
    "            self.view.display_message(f\"Chatbot: {response}\")\n"
   ]
  },
  {
   "cell_type": "code",
   "execution_count": null,
   "id": "main",
   "metadata": {},
   "outputs": [],
   "source": [
    "# chatbot_main.py\n",
    "from chatbot_controller import ChatbotController\n",
    "\n",
    "if __name__ == '__main__':\n",
    "    controller = ChatbotController()\n",
    "    controller.start_chat()\n"
   ]
  }
 ],
 "metadata": {
  "kernelspec": {
   "display_name": "Python 3",
   "language": "python",
   "name": "python3"
  },
  "language_info": {
   "codemirror_mode": {"name": "ipython", "version": 3},
   "file_extension": ".py",
   "mimetype": "text/x-python",
   "name": "python",
   "nbconvert_exporter": "python",
   "pygments_lexer": "ipython3",
   "version": "3.8.10"
  }
 },
 "nbformat": 4,
 "nbformat_minor": 5
}
